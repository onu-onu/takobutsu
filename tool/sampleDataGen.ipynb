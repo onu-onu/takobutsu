{
 "cells": [
  {
   "cell_type": "markdown",
   "metadata": {},
   "source": [
    "```json\n",
    "[\n",
    "    {\n",
    "        \"startAt\": \"2024-05-31T04:30:00+00:00\",\n",
    "        \"value\": \"0.000000\",\n",
    "        \"costEstimate\": \"0.00\",\n",
    "        \"consumptionStep\": 0,\n",
    "        \"consumptionRateBand\": \"CONSUMPTION_STEPPED_03_03\"\n",
    "    },\n",
    "    {\n",
    "        \"startAt\": \"2024-05-31T05:00:00+00:00\",\n",
    "        \"value\": \"0.100000\",\n",
    "        \"costEstimate\": \"3.04\",\n",
    "        \"consumptionStep\": 0,\n",
    "        \"consumptionRateBand\": \"CONSUMPTION_STEPPED_03_01\"\n",
    "    },\n",
    "    {\n",
    "        \"startAt\": \"2024-05-31T05:30:00+00:00\",\n",
    "        \"value\": \"0.000000\",\n",
    "        \"costEstimate\": \"0.00\",\n",
    "        \"consumptionStep\": 0,\n",
    "        \"consumptionRateBand\": \"CONSUMPTION_STEPPED_03_03\"\n",
    "    },\n",
    "    {\n",
    "        \"startAt\": \"2024-05-31T06:00:00+00:00\",\n",
    "        \"value\": \"0.000000\",\n",
    "        \"costEstimate\": \"0.00\",\n",
    "        \"consumptionStep\": 0,\n",
    "        \"consumptionRateBand\": \"CONSUMPTION_STEPPED_03_03\"\n",
    "    },\n",
    "    {\n",
    "        \"startAt\": \"2024-05-31T06:30:00+00:00\",\n",
    "        \"value\": \"0.100000\",\n",
    "        \"costEstimate\": \"3.04\",\n",
    "        \"consumptionStep\": 0,\n",
    "        \"consumptionRateBand\": \"CONSUMPTION_STEPPED_03_01\"\n",
    "    }\n",
    "]\n",
    "```"
   ]
  },
  {
   "cell_type": "code",
   "execution_count": 5,
   "metadata": {},
   "outputs": [],
   "source": [
    "from datetime import datetime, timedelta\n",
    "import json\n",
    "import random\n",
    "\n",
    "seed_dt = datetime(2024, 1, 1, 0, 0)\n",
    "end_dt = datetime(2024, 6, 12, 23, 30)\n",
    "\n",
    "sample_data_list = {}\n",
    "while seed_dt < end_dt:\n",
    "    v = round(random.random()*100)/100\n",
    "    d = {\n",
    "        'startAt': seed_dt.strftime('%Y-%m-%dT%H:%M:%S+09:00'),\n",
    "        'value': str(v),\n",
    "        'costEstimate': str(round(v * 300)/100)\n",
    "    }\n",
    "    key = seed_dt.strftime('%Y-%m')\n",
    "    if not key in sample_data_list:\n",
    "        sample_data_list[key] = [d]\n",
    "    else:\n",
    "        sample_data_list[key].append(d)\n",
    "    seed_dt = seed_dt + timedelta(minutes=30)\n",
    "with open('sample_data.json', 'w', encoding='utf-8') as json_file:\n",
    "    json.dump(sample_data_list, json_file, ensure_ascii=False, indent=4)"
   ]
  }
 ],
 "metadata": {
  "kernelspec": {
   "display_name": "Python 3",
   "language": "python",
   "name": "python3"
  },
  "language_info": {
   "codemirror_mode": {
    "name": "ipython",
    "version": 3
   },
   "file_extension": ".py",
   "mimetype": "text/x-python",
   "name": "python",
   "nbconvert_exporter": "python",
   "pygments_lexer": "ipython3",
   "version": "3.11.6"
  }
 },
 "nbformat": 4,
 "nbformat_minor": 2
}
